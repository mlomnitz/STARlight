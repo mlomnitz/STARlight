{
 "cells": [
  {
   "cell_type": "code",
   "execution_count": 1,
   "metadata": {
    "collapsed": true
   },
   "outputs": [],
   "source": [
    "import itertools\n",
    "import sys, string, os\n",
    "home_dir = '/Users/michaellomnitz/Documents/eSTARlight/x_sections/'\n",
    "ana_dir = '/Users/michaellomnitz/Documents/STARlight/e_STARlight_tests'\n",
    "Q2_bins = { '_1_10':['MIN_GAMMA_Q2 = 1', 'MAX_GAMMA_Q2 = 10'],\n",
    "            '_1e-1_1':['MIN_GAMMA_Q2 = 0.1', 'MAX_GAMMA_Q2 = 1'],\n",
    "            '_1e-2_1e-1':['MIN_GAMMA_Q2 = 0.01', 'MAX_GAMMA_Q2 = 0.1'],\n",
    "            '_1e-3_1e-2':['MIN_GAMMA_Q2 = 0.001', 'MAX_GAMMA_Q2 = 0.01'],\n",
    "            '_1e-4_1e-3':['MIN_GAMMA_Q2 = 0.0001', 'MAX_GAMMA_Q2 = 0.001'],\n",
    "            '_1e-5_1e-4':['MIN_GAMMA_Q2 = 0.00001', 'MAX_GAMMA_Q2 = 0.0001'],\n",
    "            '_1e-6_1e-5':['MIN_GAMMA_Q2 = 0.000001', 'MAX_GAMMA_Q2 = 0.00001'],\n",
    "            '':['#MIN_GAMMA_Q2 = n/a','#MAX_GAMMA_Q2 = n/a'],\n",
    "          }\n",
    "part = 'upsilon'"
   ]
  },
  {
   "cell_type": "code",
   "execution_count": 2,
   "metadata": {
    "collapsed": false
   },
   "outputs": [],
   "source": [
    "from math import log10, floor\n",
    "def round_sig(x, sig=2):\n",
    "    return round(x, sig-int(floor(log10(abs(x))))-1)\n",
    "\n",
    "def make_input_file(prod_key, template_loc):\n",
    "    #load template\n",
    "    with open(template_loc,'r') as f:\n",
    "        data = f.readlines()\n",
    "    # --  Set prodiction id\n",
    "    data[38] = Q2_bins[prod_key][0]+'\\n'\n",
    "    data[39] = Q2_bins[prod_key][1]+'\\n'\n",
    "    with open(home_dir+'STARlight/slight.in','w') as f:\n",
    "        f.writelines(data)\n",
    "        \n",
    "def make_Q2Evol_study(pwd_to_template):\n",
    "    for key in Q2_bins:\n",
    "        make_input_file(key,pwd_to_template)\n",
    "        os.chdir( home_dir+'STARlight' )\n",
    "        os.system( home_dir+'STARlight/e_starlight > log' )\n",
    "        os.system( 'root -b -q -l trunk/utils/ConvertStarlightAsciiToTree.C')\n",
    "        os.chdir(ana_dir)\n",
    "        os.system('sh e_run.sh '+home_dir+'STARlight/starlight.root')\n",
    "        os.rename(ana_dir+'/hists.root',home_dir+'Q2_evolution/hists/hists_'+part+str(key)+'.root')\n",
    "        os.chdir(home_dir)\n",
    "        os.rename(home_dir+'STARlight/log',home_dir+'Q2_evolution/log_'+part+str(key))\n",
    "        os.rename(home_dir+'STARlight/starlight.root',home_dir+'Q2_evolution/starlight_'+part+str(key)+'.root')\n",
    "        print('Done with ',str(key))"
   ]
  },
  {
   "cell_type": "code",
   "execution_count": 3,
   "metadata": {
    "collapsed": false
   },
   "outputs": [
    {
     "name": "stdout",
     "output_type": "stream",
     "text": [
      "Done with  _1_10\n",
      "Done with  _1e-1_1\n",
      "Done with  _1e-2_1e-1\n",
      "Done with  _1e-3_1e-2\n",
      "Done with  _1e-4_1e-3\n",
      "Done with  _1e-5_1e-4\n",
      "Done with  _1e-6_1e-5\n",
      "Done with  \n"
     ]
    }
   ],
   "source": [
    "make_Q2Evol_study('slight_template_eRHIC_Q2evol.in')"
   ]
  },
  {
   "cell_type": "code",
   "execution_count": null,
   "metadata": {
    "collapsed": true
   },
   "outputs": [],
   "source": []
  }
 ],
 "metadata": {
  "kernelspec": {
   "display_name": "Python 3",
   "language": "python",
   "name": "python3"
  },
  "language_info": {
   "codemirror_mode": {
    "name": "ipython",
    "version": 3
   },
   "file_extension": ".py",
   "mimetype": "text/x-python",
   "name": "python",
   "nbconvert_exporter": "python",
   "pygments_lexer": "ipython3",
   "version": "3.6.0"
  }
 },
 "nbformat": 4,
 "nbformat_minor": 2
}
