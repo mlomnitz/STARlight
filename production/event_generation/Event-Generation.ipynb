{
 "cells": [
  {
   "cell_type": "markdown",
   "metadata": {},
   "source": [
    "## Event generation\n",
    "This notebook illustrates how to automate large sample event generation for a series of accelerator configurations, particle species, etc. The notebook will run three steps:\n",
    " - Event generation in _eSTARlight_\n",
    " - ASCII file is then converted to ROOT tree\n",
    " - Analysis is then run on the output ROOT file and simple histograms are produced"
   ]
  },
  {
   "cell_type": "code",
   "execution_count": 1,
   "metadata": {
    "collapsed": true
   },
   "outputs": [],
   "source": [
    "import itertools\n",
    "import sys, string, os\n",
    "from math import log10, floor\n",
    "import matplotlib.pyplot as plt  \n",
    "import seaborn as sns\n",
    "home_dir = '/Users/michaellomnitz/Documents/install_test/'\n",
    "unit_decode = { 'mb.':-3, 'microb.':-6, 'nanob.':-9, 'picob.':-12, 'femtob.':-15}"
   ]
  },
  {
   "cell_type": "markdown",
   "metadata": {},
   "source": [
    "Some simple funcitons used for utilies and run workflow:\n",
    "- round_sig: Round a number to a given number of significant figures\n",
    "- make_input_file: Takes template input file for _eSTARlight_ and sets the desired $Q^2$ range and final state.\n",
    "- run_prepared_sim: Runs the full pipeline for a prepared input configuration file _slight.in_. This first generates the M.C. sample in _eSTARlight_, then processes the ASCII file to produce ROOT tree. Finally it runs an analysis on the ROOT file.\n",
    "\n",
    "*Note*: It is assumed that home_dir contains eSTARlight and the compiled executable e_starlight"
   ]
  },
  {
   "cell_type": "code",
   "execution_count": 2,
   "metadata": {
    "collapsed": true
   },
   "outputs": [],
   "source": [
    "def round_sig(x, sig=2):\n",
    "    return round(x, sig-int(floor(log10(abs(x))))-1)\n",
    "\n",
    "def make_input_file(template_loc, prod_pid, prod_mode):\n",
    "    print(prod_mode)\n",
    "    with open(template_loc,'r') as f:\n",
    "        data=f.readlines()    \n",
    "    if prod_mode is 'PP':\n",
    "        print('here')\n",
    "        data[33] = 'MIN_GAMMA_Q2 = 0. \\n'\n",
    "        data[34] = 'MAX_GAMMA_Q2 = 1. \\n'\n",
    "    elif prod_mode is 'EP':\n",
    "        data[33] = 'MIN_GAMMA_Q2 = 1.0 \\n'\n",
    "        data[34] = 'MAX_GAMMA_Q2 = 100.0 \\n'\n",
    "    else:\n",
    "        print('prod_mode not defined')\n",
    "        return\n",
    "\n",
    "    data[29] = 'PROD_PID = '+str(prod_pid)+'\\n'\n",
    "    data[28] = 'N_EVENTS = 100000\\n'\n",
    "    with open(home_dir+'slight.in','w') as f:\n",
    "        f.writelines(data)\n",
    "        \n",
    "def run_prepared_sim(pwd_to_out):\n",
    "    ascii_to_root = 'root -b -q -l '+home_dir+'eSTARlight/trunk/utils/ConvertStarlightAsciiToTree.C'\n",
    "    # Run eSTARlight\n",
    "    os.chdir( home_dir )\n",
    "    os.system( home_dir+'e_starlight > log' )\n",
    "    os.system(ascii_to_root)\n",
    "    # Move files\n",
    "    os.rename(home_dir+'log',\n",
    "              pwd_to_out+'.txt')\n",
    "    os.rename(home_dir+'slight.out',\n",
    "              pwd_to_out+'.out')\n",
    "    os.rename(home_dir+'starlight.root', \n",
    "             pwd_to_out+'.root')\n",
    "    # \n",
    "    os.chdir(home_dir+'eSTARlight/analysis/')\n",
    "    os.system('sh e_run.sh '+pwd_to_out+'.root')\n",
    "    os.rename('photon_energy_bands.eps', \n",
    "             pwd_to_out+'_photon_energy_bands.eps')\n",
    "    os.rename('detector_acceptance.eps', \n",
    "             pwd_to_out+'_detector_acceptance.eps.eps')\n",
    "    # Make root file\n",
    "    os.chdir( home_dir )"
   ]
  },
  {
   "cell_type": "markdown",
   "metadata": {},
   "source": [
    "## Generate simluation samples\n",
    "Set up the specific simulation to produce. We set:\n",
    " - particle_prod: Final states to simulate\n",
    " - accelerator_facility: Accelerator facilities to simulate\n",
    " - prod_m: Production mechanism to study, either photoproduction ('PP') or electroproduction ('EP')\n",
    "Then run the fll simulation"
   ]
  },
  {
   "cell_type": "code",
   "execution_count": 3,
   "metadata": {
    "collapsed": true
   },
   "outputs": [],
   "source": [
    "particle_prod = {'rho':113, 'J_psi':443011}\n",
    "accelerator_facility = ['eRHIC','JLEIC','LHeC',\n",
    "                        'eRHIC_eA','JLEIC_eA','LHeC_eA']\n",
    "prod_m = 'PP'"
   ]
  },
  {
   "cell_type": "code",
   "execution_count": 5,
   "metadata": {
    "collapsed": false
   },
   "outputs": [
    {
     "name": "stdout",
     "output_type": "stream",
     "text": [
      "Starting with  J_psi\n",
      " \t --  JLEIC\n",
      "PP\n",
      "here\n"
     ]
    }
   ],
   "source": [
    "temp_S = home_dir+'eSTARlight/production/templates/slight_template_'\n",
    "output_loc = home_dir+'eSTARlight/production/event_generation/'\n",
    "for key in particle_prod:\n",
    "    print('Starting with ', key)\n",
    "    for accel in accelerator_facility:\n",
    "        out_dir = output_loc+accel\n",
    "        print(' \\t -- ',accel)\n",
    "        if os.path.isdir(out_dir) is False:\n",
    "            os.system('mkdir '+out_dir)\n",
    "        make_input_file(temp_S+accel+'.in',particle_prod[key],prod_m)\n",
    "        run_prepared_sim(out_dir+'/'+key+'_'+prod_m)"
   ]
  },
  {
   "cell_type": "code",
   "execution_count": null,
   "metadata": {
    "collapsed": true
   },
   "outputs": [],
   "source": []
  },
  {
   "cell_type": "code",
   "execution_count": null,
   "metadata": {
    "collapsed": false
   },
   "outputs": [],
   "source": []
  },
  {
   "cell_type": "code",
   "execution_count": null,
   "metadata": {
    "collapsed": false
   },
   "outputs": [],
   "source": []
  },
  {
   "cell_type": "code",
   "execution_count": null,
   "metadata": {
    "collapsed": false
   },
   "outputs": [],
   "source": []
  },
  {
   "cell_type": "code",
   "execution_count": null,
   "metadata": {
    "collapsed": true
   },
   "outputs": [],
   "source": []
  }
 ],
 "metadata": {
  "kernelspec": {
   "display_name": "Python 3",
   "language": "python",
   "name": "python3"
  },
  "language_info": {
   "codemirror_mode": {
    "name": "ipython",
    "version": 3
   },
   "file_extension": ".py",
   "mimetype": "text/x-python",
   "name": "python",
   "nbconvert_exporter": "python",
   "pygments_lexer": "ipython3",
   "version": "3.6.0"
  }
 },
 "nbformat": 4,
 "nbformat_minor": 2
}
