{
 "cells": [
  {
   "cell_type": "markdown",
   "metadata": {},
   "source": [
    "## Heavy ion comparison\n",
    "This notebook is motivated by the studies [_H. M&auml;ntyasaari, et. al._](https://arxiv.org/abs/1712.02508) utilizing [_eSTARlight_](). The cross sections for coherent $\\rho$ vector-meson (photo)electro-production $\\sigma_{\\gamma +A \\rightarrow V.M. + A}(Q^2)$ are obtained for two heavy-ion targets (A=56,197) in a series of $Q^{2}$ intervals at eRHIC energies:\n",
    " - 18 GeV electron beam\n",
    " - 275 GeV/n ion beam\n",
    "\n",
    "The results are then plotted after taking into account the $A^{4/3}$ scaling.\n",
    "\n",
    "First step is to load relevant python modules and initialize some global variables (i.e. working directory)\n",
    "\n",
    "*Note*: Running the study as is set-up will take around an hour "
   ]
  },
  {
   "cell_type": "code",
   "execution_count": 4,
   "metadata": {
    "collapsed": true
   },
   "outputs": [],
   "source": [
    "import itertools\n",
    "import sys, string, os\n",
    "from math import log10, floor\n",
    "import matplotlib.pyplot as plt  \n",
    "import seaborn as sns\n",
    "home_dir = '/Users/michaellomnitz/Documents/install_test/'\n",
    "unit_decode = { 'mb.':-3, 'microb.':-6, 'nanob.':-9, 'picob.':-12, 'femtob.':-15}"
   ]
  },
  {
   "cell_type": "markdown",
   "metadata": {},
   "source": [
    "Some simple funcitons used for utilies and run workflow:\n",
    "- round_sig: Round a number to a given number of significant figures\n",
    "- make_input_file: Takes template input file for _eSTARlight_ and sets the desired $Q^2$ range and target nucleii.\n",
    "- run_target_study: Iterates over target and $Q^2$ and calls _eSTARlight_ and saves the log file to desired location\n",
    "- decode_string: Takes relevant line from _eSTARlight_ and extract the cross-section and units (i.e. reads \"gamma+X --> VM+X 204.161 microb.\" and returns $204.161\\times10^{-6}$)\n",
    "- find_x_section: Iterates over produced log files and extracts cross-sections\n",
    "\n",
    "*Note*: It is assumed that home_dir contains eSTARlight and the compiled executable e_starlight"
   ]
  },
  {
   "cell_type": "code",
   "execution_count": 11,
   "metadata": {
    "collapsed": false
   },
   "outputs": [],
   "source": [
    "def round_sig(x, sig=2):\n",
    "    return round(x, sig-int(floor(log10(abs(x))))-1)\n",
    "\n",
    "def make_input_file(nuclei_def, q2_range, template_loc):\n",
    "    if len(nuclei_def) != 2 or len(q2_range) != 2:\n",
    "        print('Something is awefully wrong')\n",
    "        return\n",
    "    #load template\n",
    "    with open(template_loc,'r') as f:\n",
    "        data = f.readlines()\n",
    "    # --  Set prodiction id\n",
    "    data[6] = 'BEAM_2_Z = '+str(nuclei_def[0])+'\\n' \n",
    "    data[7] = 'BEAM_2_A = '+str(nuclei_def[1])+'\\n' \n",
    "    data[37] = 'MIN_GAMMA_Q2 = '+str(q2_range[0])+'\\n' \n",
    "    data[38] = 'MAX_GAMMA_Q2 = '+str(q2_range[1])+'\\n' \n",
    "    with open(home_dir+'slight.in','w') as f:\n",
    "        f.writelines(data)\n",
    "        \n",
    "def run_target_study(pwd_to_template):\n",
    "    print('Running ',len(nuclei), ' nuclei')\n",
    "    for key in nuclei.keys():\n",
    "        print( 'Starting work on ',key,' -- ',len(Q2_bins), 'Q2 bins in the study')\n",
    "        for idx in range(len(Q2_bins)-1):\n",
    "            this_bin = [Q2_bins[idx],Q2_bins[idx+1]]\n",
    "            make_input_file(nuclei[key],this_bin, pwd_to_template)\n",
    "            os.chdir( home_dir )\n",
    "            os.system( home_dir+'e_starlight > log' )\n",
    "            os.rename(home_dir+'log',home_dir+'eSTARlight/production/Au_vs_Fe_test/'+key+'_Q2_range_'+str(this_bin[0])+'_'\n",
    "                      +str(this_bin[1])+'.txt')\n",
    "            print(idx,'/',len(Q2_bins),' done for ',key)\n",
    "        \n",
    "def decode_string( line ):\n",
    "    space_pos = [pos for pos,char in enumerate(line) if char == ' ']\n",
    "    n_space = len(space_pos)\n",
    "    num = float(line[space_pos[n_space-2]:space_pos[n_space-1]])\n",
    "    #num = round_sig(num,2)\n",
    "    units = line[space_pos[n_space-1]+1:-1]\n",
    "    return num,units\n",
    "    \n",
    "def find_x_section(nucleii):\n",
    "    x_sec_to_ret = []\n",
    "    for i in range(len(Q2_bins)-1):        \n",
    "        file_loc = home_dir+'eSTARlight/production/Au_vs_Fe_test/'+nucleii+'_Q2_range_'+str(Q2_bins[i])+'_'+str(Q2_bins[i+1])+'.txt'\n",
    "        with open(file_loc,'r') as f:\n",
    "            data = f.readlines() \n",
    "        x_sec, units = decode_string(data[47])\n",
    "        x_sec_to_ret.append(x_sec*10**unit_decode[units])\n",
    "        #print (x_sec,'10**',unit_decode[units])\n",
    "    #return x_sec, units\n",
    "    return x_sec_to_ret"
   ]
  },
  {
   "cell_type": "markdown",
   "metadata": {},
   "source": [
    "### Run the study\n",
    "This procedure may take some time. No events are generated but the look-up tables for _eSTARlight_ have to be built for each target and $Q^2$ interval\n",
    "We define variables for this study:\n",
    "- $Q^2$ intervals\n",
    "- Nucleii definition: atomic number and nucleon number"
   ]
  },
  {
   "cell_type": "code",
   "execution_count": 15,
   "metadata": {
    "collapsed": true
   },
   "outputs": [],
   "source": [
    "#Q2_bins = [round((i+1)*0.01,2) for i in range(10)]\n",
    "Q2_bins = [round((i+1)*0.01,2) for i in range(9)] + [round((i+1)*0.1,1) for i in range(9)]\n",
    "Q2_bins+= [(i+1)*1 for i in range(9)] + [(i+1)*10 for i in range(9)] + [100,200]\n",
    "nuclei = {'Au':[79,197], 'Fe':[26,56]}"
   ]
  },
  {
   "cell_type": "code",
   "execution_count": 16,
   "metadata": {
    "collapsed": false
   },
   "outputs": [
    {
     "name": "stdout",
     "output_type": "stream",
     "text": [
      "Running  2  nuclei\n",
      "Starting work on  Au  --  38 Q2 bins in the study\n",
      "0 / 38  done for  Au\n",
      "1 / 38  done for  Au\n",
      "2 / 38  done for  Au\n",
      "3 / 38  done for  Au\n",
      "4 / 38  done for  Au\n",
      "5 / 38  done for  Au\n",
      "6 / 38  done for  Au\n",
      "7 / 38  done for  Au\n",
      "8 / 38  done for  Au\n",
      "9 / 38  done for  Au\n",
      "10 / 38  done for  Au\n",
      "11 / 38  done for  Au\n",
      "12 / 38  done for  Au\n",
      "13 / 38  done for  Au\n",
      "14 / 38  done for  Au\n",
      "15 / 38  done for  Au\n",
      "16 / 38  done for  Au\n",
      "17 / 38  done for  Au\n",
      "18 / 38  done for  Au\n",
      "19 / 38  done for  Au\n",
      "20 / 38  done for  Au\n",
      "21 / 38  done for  Au\n",
      "22 / 38  done for  Au\n",
      "23 / 38  done for  Au\n",
      "24 / 38  done for  Au\n",
      "25 / 38  done for  Au\n",
      "26 / 38  done for  Au\n",
      "27 / 38  done for  Au\n",
      "28 / 38  done for  Au\n",
      "29 / 38  done for  Au\n",
      "30 / 38  done for  Au\n",
      "31 / 38  done for  Au\n",
      "32 / 38  done for  Au\n",
      "33 / 38  done for  Au\n",
      "34 / 38  done for  Au\n",
      "35 / 38  done for  Au\n",
      "36 / 38  done for  Au\n",
      "Starting work on  Fe  --  38 Q2 bins in the study\n",
      "0 / 38  done for  Fe\n",
      "1 / 38  done for  Fe\n",
      "2 / 38  done for  Fe\n",
      "3 / 38  done for  Fe\n",
      "4 / 38  done for  Fe\n",
      "5 / 38  done for  Fe\n",
      "6 / 38  done for  Fe\n",
      "7 / 38  done for  Fe\n",
      "8 / 38  done for  Fe\n",
      "9 / 38  done for  Fe\n",
      "10 / 38  done for  Fe\n",
      "11 / 38  done for  Fe\n",
      "12 / 38  done for  Fe\n",
      "13 / 38  done for  Fe\n",
      "14 / 38  done for  Fe\n",
      "15 / 38  done for  Fe\n",
      "16 / 38  done for  Fe\n",
      "17 / 38  done for  Fe\n",
      "18 / 38  done for  Fe\n",
      "19 / 38  done for  Fe\n",
      "20 / 38  done for  Fe\n",
      "21 / 38  done for  Fe\n",
      "22 / 38  done for  Fe\n",
      "23 / 38  done for  Fe\n",
      "24 / 38  done for  Fe\n",
      "25 / 38  done for  Fe\n",
      "26 / 38  done for  Fe\n",
      "27 / 38  done for  Fe\n",
      "28 / 38  done for  Fe\n",
      "29 / 38  done for  Fe\n",
      "30 / 38  done for  Fe\n",
      "31 / 38  done for  Fe\n",
      "32 / 38  done for  Fe\n",
      "33 / 38  done for  Fe\n",
      "34 / 38  done for  Fe\n",
      "35 / 38  done for  Fe\n",
      "36 / 38  done for  Fe\n"
     ]
    }
   ],
   "source": [
    "#\n",
    "run_target_study(home_dir+'eSTARlight/production/templates/slight_Q2test_template.in')"
   ]
  },
  {
   "cell_type": "markdown",
   "metadata": {},
   "source": [
    "### Note\n",
    "Next cell is not always needed. In this case the study was done in parts and the array holding the full $Q^2$ range needed to be built "
   ]
  },
  {
   "cell_type": "code",
   "execution_count": null,
   "metadata": {
    "collapsed": false
   },
   "outputs": [],
   "source": [
    "temp = [ (i+1)*1. for i in range(1,100)]\n",
    "Q2_bins = [round((i+1)*0.01,2) for i in range(10-1)] + [round((i+1)*0.1,1) for i in range(10)] + [ (i+1)*1 for i in range(1,100)]\n",
    "print(Q2_bins)"
   ]
  },
  {
   "cell_type": "markdown",
   "metadata": {},
   "source": [
    "### Load the points"
   ]
  },
  {
   "cell_type": "code",
   "execution_count": 17,
   "metadata": {
    "collapsed": false
   },
   "outputs": [],
   "source": [
    "au_points = find_x_section('Au')\n",
    "fe_points = find_x_section('Fe')"
   ]
  },
  {
   "cell_type": "markdown",
   "metadata": {},
   "source": [
    "### Further curating the data\n",
    "Some minor reformatting before plotting the results. As mentioned, we are interested in $A_1^{-4/3}\\sigma_{A_1}$  /  $A_2^{-4/3}\\sigma_{A_2}$ so the data points for Gold(Au) and Iron(Fe) are multiplied by their respective scaling factors. Secondly, the average $<Q^2>$ is obtained for each bin assuming a funcitonal form $Q^{-4}$ for the bin centers of each interval."
   ]
  },
  {
   "cell_type": "code",
   "execution_count": 18,
   "metadata": {
    "collapsed": false
   },
   "outputs": [],
   "source": [
    "import math as m\n",
    "au_scale = 197**(-4/3)\n",
    "fe_scale = 56**(-4/3)\n",
    "x_bins = []\n",
    "for i in range(len(Q2_bins)-1):\n",
    "    num = m.log(Q2_bins[i+1]) - m.log(Q2_bins[i])\n",
    "    denom = (Q2_bins[i]**(-1)-Q2_bins[i+1]**(-1))\n",
    "    x_bins.append(num/denom)\n",
    "y_val = [ (au_scale*au_points[i])/(fe_scale*fe_points[i]) for i in range(len(au_points))  ]\n"
   ]
  },
  {
   "cell_type": "markdown",
   "metadata": {},
   "source": [
    "## Plot the figure\n",
    "Set axis labels, figure title and curve legend, then plot and save the figure"
   ]
  },
  {
   "cell_type": "code",
   "execution_count": 19,
   "metadata": {
    "collapsed": false
   },
   "outputs": [
    {
     "data": {
      "image/png": "[encoded data removed]",
      "text/plain": [
       "<matplotlib.figure.Figure at 0x119baa9b0>"
      ]
     },
     "metadata": {},
     "output_type": "display_data"
    }
   ],
   "source": [
    "fig, ax = plt.subplots()\n",
    "fig.suptitle(r'$ \\gamma+A \\rightarrow \\rho +A$')\n",
    "plt.xlabel('$Q^{2}[\\\\rm{GeV}^{2}]$')\n",
    "plt.ylabel('$A_1^{-4/3}\\sigma_{A_1}$  /  $A_2^{-4/3}\\sigma_{A_2}$')\n",
    "ax.semilogx(x_bins, y_val)\n",
    "ax.legend([r'A=197(Au)/A=56(Fe - density $\\rho_0$ = 0.138'])\n",
    "plt.savefig(home_dir+'Au_Fe_scaling_rho.eps')\n",
    "plt.show()"
   ]
  },
  {
   "cell_type": "markdown",
   "metadata": {},
   "source": [
    "## Save data\n",
    "We now save the data points to a csv file for plotting in the future. More specifically, paper plots are mostly done in ROOT so we will plot this with similar style"
   ]
  },
  {
   "cell_type": "code",
   "execution_count": null,
   "metadata": {
    "collapsed": false
   },
   "outputs": [],
   "source": [
    "import csv\n",
    "data = [x_bins, y_val]\n",
    "with open(home_dir+'Au_Fe_scaling_jpsi.csv','w') as f:\n",
    "    out = csv.writer(f, delimiter = ',')\n",
    "    out.writerows(zip(*data))\n"
   ]
  },
  {
   "cell_type": "markdown",
   "metadata": {},
   "source": [
    "## Prepare the file \n",
    "This step prepares the csv file to plot in ROOT using the new procedure (03-01-2018)."
   ]
  },
  {
   "cell_type": "code",
   "execution_count": null,
   "metadata": {
    "collapsed": false
   },
   "outputs": [],
   "source": [
    "import csv\n",
    "import math as m\n",
    "particles = ['rho','J_psi']\n",
    "temp_dir = home_dir+'Au_vs_Fe_Tests/'\n",
    "au_scale = 197**(-4/3)\n",
    "fe_scale = 56**(-4/3)\n",
    "for part in particles: \n",
    "    x_bin = []\n",
    "    iron = []\n",
    "    gold = []\n",
    "    f_iron = csv.reader(open(temp_dir+part+'_Iron/estarlight_total_xsec.csv','r'))\n",
    "    for row in f_iron:\n",
    "        q0 = float(row[0])\n",
    "        q1 = float(row[1])\n",
    "        num = m.log(q1) - m.log(q0)\n",
    "        denom = (q0**(-1)-q1**(-1))\n",
    "        if q0 < 90:\n",
    "            x_bin.append(num/denom)\n",
    "            iron.append(float(row[2]))\n",
    "    f_gold = csv.reader(open(temp_dir+part+'_Gold/estarlight_total_xsec.csv','r'))\n",
    "    for row in f_gold:\n",
    "        q0 = float(row[0])\n",
    "        if q0 < 90:        \n",
    "            gold.append(float(row[2]))\n",
    "    y_bin = [ (gold[i]*au_scale)/(iron[i]*fe_scale) for i in range(len(iron))]\n",
    "    with open(temp_dir+'Au_Fe_scaling_'+part+'.csv','w') as f:\n",
    "        out = csv.writer(f, delimiter = ',')\n",
    "        out.writerows(zip(*[x_bin,y_bin]))\n",
    "    \n",
    "    \n",
    "#for row in f:\n",
    "\n",
    "\n",
    "\n",
    "    "
   ]
  },
  {
   "cell_type": "code",
   "execution_count": null,
   "metadata": {
    "collapsed": false
   },
   "outputs": [],
   "source": []
  },
  {
   "cell_type": "code",
   "execution_count": null,
   "metadata": {
    "collapsed": false
   },
   "outputs": [],
   "source": []
  },
  {
   "cell_type": "code",
   "execution_count": null,
   "metadata": {
    "collapsed": false
   },
   "outputs": [],
   "source": []
  },
  {
   "cell_type": "code",
   "execution_count": null,
   "metadata": {
    "collapsed": false
   },
   "outputs": [],
   "source": []
  },
  {
   "cell_type": "code",
   "execution_count": null,
   "metadata": {
    "collapsed": false
   },
   "outputs": [],
   "source": []
  },
  {
   "cell_type": "code",
   "execution_count": null,
   "metadata": {
    "collapsed": true
   },
   "outputs": [],
   "source": []
  }
 ],
 "metadata": {
  "kernelspec": {
   "display_name": "Python 3",
   "language": "python",
   "name": "python3"
  },
  "language_info": {
   "codemirror_mode": {
    "name": "ipython",
    "version": 3
   },
   "file_extension": ".py",
   "mimetype": "text/x-python",
   "name": "python",
   "nbconvert_exporter": "python",
   "pygments_lexer": "ipython3",
   "version": "3.6.0"
  }
 },
 "nbformat": 4,
 "nbformat_minor": 2
}
