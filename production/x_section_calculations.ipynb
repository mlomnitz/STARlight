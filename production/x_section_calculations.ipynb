{
 "cells": [
  {
   "cell_type": "code",
   "execution_count": 175,
   "metadata": {
    "collapsed": true
   },
   "outputs": [],
   "source": [
    "import itertools\n",
    "import sys, string, os\n",
    "home_dir = '/Users/michaellomnitz/Documents/eSTARlight/x_sections/'\n",
    "particle_id = [ 113, 333, 443011, 444011, 553011]\n",
    "#particle_id = [ 444011, 553011]\n",
    "particle_name = ['phi', 'rho', 'J_psi', 'Psi_2s', 'Upsilon_1s']\n",
    "#particle_name = [ 'Psi_2s', 'Upsilon_1s']\n",
    "unit_decode = { 'mb.':-3, 'microb.':-6, 'nanob.':-9, 'picob.':-12, 'femtob.':-15}\n",
    "unit_latex = { 'mb.':'mb', 'microb.':'$\\mu$b', 'nanob.':'nb', 'picob.':'pb', 'femtob.':'fb'}\n",
    "event_unit = { 3:'K', 6:'M', 9:'G'}\n",
    "n_events_from_units = {'mb.':'T', 'microb.':'G', 'nanob.':'M', 'picob.':'K', 'femtob.':''} #considering 1 fb^-1"
   ]
  },
  {
   "cell_type": "code",
   "execution_count": 164,
   "metadata": {
    "collapsed": false
   },
   "outputs": [],
   "source": [
    "from math import log10, floor\n",
    "def round_sig(x, sig=2):\n",
    "    return round(x, sig-int(floor(log10(abs(x))))-1)\n",
    "\n",
    "def make_input_file(prod_no, template_loc):\n",
    "    #load template\n",
    "    with open(template_loc,'r') as f:\n",
    "        data = f.readlines()\n",
    "    # --  Set prodiction id\n",
    "    data[29] = 'PROD_PID = '+str(particle_id[prod_no])+'   #Channel of interest; this is '+str(particle_name[prod_no])+'\\n'\n",
    "    with open(home_dir+'STARlight/slight.in','w') as f:\n",
    "        f.writelines(data)\n",
    "\n",
    "def run_accel_study(accel_name, prod_mech, pwd_to_template):\n",
    "    print(len(particle_id),' particles in study')\n",
    "    for idx,part in enumerate(particle_id):\n",
    "        make_input_file(idx,pwd_to_template)\n",
    "        os.chdir( home_dir+'STARlight' )\n",
    "        os.system( home_dir+'STARlight/e_starlight > log' )\n",
    "        os.rename(home_dir+'STARlight/log',home_dir+accel_name+'/'+prod_mech+'/x_section_'+particle_name[idx]+'.txt')\n",
    "        print(idx,'/',len(particle_id),' done:',particle_name[idx])\n",
    "    \n",
    "def decode_string( line ):\n",
    "    space_pos = [pos for pos,char in enumerate(line) if char == ' ']\n",
    "    n_space = len(space_pos)\n",
    "    num = float(line[space_pos[n_space-2]:space_pos[n_space-1]])\n",
    "    num = round_sig(num,2)\n",
    "    units = line[space_pos[n_space-1]+1:-1]\n",
    "    return num,units\n",
    "    \n",
    "def find_x_section(accel_name, prod_mech, part_id):\n",
    "    file_loc = home_dir+accel_name+'/'+prod_mech+'/x_section_'+particle_name[part_id]+'.txt'\n",
    "    with open(file_loc,'r') as f:\n",
    "        data = f.readlines() \n",
    "    x_sec, units = decode_string(data[46])\n",
    "    return x_sec, units\n",
    "\n",
    "def make_table_line(collision_system, prod_mech, target_A):\n",
    "    particle_row = ''\n",
    "    x_sec_row = ' & '\n",
    "    rate_row = ''\n",
    "    for idx, a in enumerate(particle_name):\n",
    "        x_sec, units = find_x_section(collision_system, prod_mech, idx)\n",
    "        n_events = round(10*x_sec/target_A,2)\n",
    "        particle_row+=a+' & '\n",
    "        x_sec_row+='$'+str(x_sec)+'$ '+unit_latex[units]+' & '\n",
    "        rate_row+= str(n_events)+n_events_from_units[units]\n",
    "        if idx != len(particle_name)-1:\n",
    "            rate_row+=' & '\n",
    "        else:\n",
    "            rate_row+='\\\\\\\\'\n",
    "    return x_sec_row+rate_row"
   ]
  },
  {
   "cell_type": "code",
   "execution_count": 168,
   "metadata": {
    "collapsed": false
   },
   "outputs": [
    {
     "name": "stdout",
     "output_type": "stream",
     "text": [
      "5  particles in study\n",
      "0 / 5  done: phi\n",
      "1 / 5  done: rho\n",
      "2 / 5  done: J_psi\n",
      "3 / 5  done: Psi_2s\n",
      "4 / 5  done: Upsilon_1s\n"
     ]
    }
   ],
   "source": [
    "run_accel_study('JLAB_eA','EP',home_dir+'slight_template_JLAB_eA.in')"
   ]
  },
  {
   "cell_type": "code",
   "execution_count": 182,
   "metadata": {
    "collapsed": false
   },
   "outputs": [
    {
     "name": "stdout",
     "output_type": "stream",
     "text": [
      " & $350.0$ $\\mu$b & $14.0$ $\\mu$b & $67.0$ nb & $18.0$ nb & $660.0$ pb & 16.83G & 0.67G & 3.22M & 0.87M & 31.73K\\\\\n"
     ]
    }
   ],
   "source": [
    "print(make_table_line('JLAB_eA','PP', 208))"
   ]
  },
  {
   "cell_type": "code",
   "execution_count": 162,
   "metadata": {
    "collapsed": false
   },
   "outputs": [
    {
     "name": "stdout",
     "output_type": "stream",
     "text": [
      "eRHIC - $ep$ & $19.0$ nb & $2.0$ nb & $590.0$ pb & $120.0$ pb & $3.3$ pb & 190.0M & 20.0M & 5900.0K & 1200.0K & 33.0K\\\\\n",
      "eRHIC - $eA$ & $5.8$ $\\mu$b & $770.0$ nb & $200.0$ nb & $47.0$ nb & $1.2$ nb & 0.29G & 39.09M & 10.15M & 2.39M & 0.06M\\\\\n",
      "\\hline\n",
      "JLEIC - $ep$ & $15.0$ nb & $1.5$ nb & $290.0$ pb & $60.0$ pb & $1.7$ pb & 150.0M & 15.0M & 2900.0K & 600.0K & 17.0K\\\\\n",
      "JLEIC - $eA$ & $5.0$ $\\mu$b & $620.0$ nb & $100.0$ nb & $24.0$ nb & $710.0$ pb & 0.24G & 29.81M & 4.81M & 1.15M & 34.13K\\\\\n",
      "\\hline\n",
      "LHeC - $ep$ & $24.0$ nb & $2.7$ nb & $1.1$ nb & $240.0$ pb & $6.4$ pb & 240.0M & 27.0M & 11.0M & 2400.0K & 64.0K\\\\\n",
      "LHeC - $eA$ & $10.0$ $\\mu$b & $1.5$ $\\mu$b & $1.0$ $\\mu$b & $260.0$ nb & $7.9$ nb & 0.48G & 0.07G & 0.05G & 12.5M & 0.38M\\\\\n",
      "\\hline\n",
      "HERA - $ep$ & $24.0$ nb & $2.7$ nb & $1.1$ nb & $240.0$ pb & $6.4$ pb & 240.0M & 27.0M & 11.0M & 2400.0K & 64.0K\\\\\n"
     ]
    }
   ],
   "source": [
    "_prod_rows = { 'eRHIC':['eRHIC - $ep$',1], 'eRHIC_eA':['eRHIC - $eA$',197],\n",
    "               'JLEIC':['JLEIC - $ep$',1], 'JLEIC_eA':['JLEIC - $eA$',208],\n",
    "               'LHeC' :['LHeC - $ep$',1],  'LHEC_eA' :['LHeC - $eA$',208],\n",
    "               'HERA':['HERA - $ep$',1]\n",
    "             }\n",
    "def make_full_table( prod_mech ):\n",
    "    for idx,key in enumerate(_prod_rows):\n",
    "        #print(idx,_prod_rows[key][0])\n",
    "        to_print = _prod_rows[key][0] + make_table_line(key,prod_mech,_prod_rows[key][1])\n",
    "        print( to_print )\n",
    "        if (idx+1)%2 == 0:\n",
    "            print('\\hline')\n",
    "make_full_table('EP')"
   ]
  },
  {
   "cell_type": "code",
   "execution_count": 144,
   "metadata": {
    "collapsed": false
   },
   "outputs": [
    {
     "name": "stdout",
     "output_type": "stream",
     "text": [
      "1240\n"
     ]
    }
   ],
   "source": [
    "\n",
    "\n",
    "print(round_sig(1236,3))"
   ]
  },
  {
   "cell_type": "code",
   "execution_count": null,
   "metadata": {
    "collapsed": true
   },
   "outputs": [],
   "source": []
  }
 ],
 "metadata": {
  "kernelspec": {
   "display_name": "Python 3",
   "language": "python",
   "name": "python3"
  },
  "language_info": {
   "codemirror_mode": {
    "name": "ipython",
    "version": 3
   },
   "file_extension": ".py",
   "mimetype": "text/x-python",
   "name": "python",
   "nbconvert_exporter": "python",
   "pygments_lexer": "ipython3",
   "version": "3.6.0"
  }
 },
 "nbformat": 4,
 "nbformat_minor": 2
}
